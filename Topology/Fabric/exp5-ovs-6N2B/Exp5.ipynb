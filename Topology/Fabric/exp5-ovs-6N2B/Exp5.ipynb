{
 "cells": [
  {
   "cell_type": "markdown",
   "id": "67a3124c-5c90-4bef-a67a-fdb0d1260b63",
   "metadata": {},
   "source": [
    "# Experiment #2: Open vSwitch 4 Networks 2 Bridge Nodes 1 Shared Link"
   ]
  },
  {
   "cell_type": "markdown",
   "id": "d4a9c95f-f070-49c6-b368-776ba96e9e1b",
   "metadata": {},
   "source": [
    "In this experiment we try to connect 4 networks with different hosts together with a bridge in the middle. We will be using Open vSwitch for the bridge, alternate solutions are Linux Bridge and Behavioral Model (BMv2)."
   ]
  },
  {
   "cell_type": "markdown",
   "id": "f967fc9c-75d3-4be0-bc7d-47886c21ef19",
   "metadata": {},
   "source": [
    "## References\n",
    "- [Open vSwitch Example](https://github.com/fabric-testbed/jupyter-examples/blob/main/fabric_examples/complex_recipes/openvswitch/openvswitch.ipynb)\n",
    "- [BMv4](https://github.com/p4lang/behavioral-model)"
   ]
  },
  {
   "cell_type": "markdown",
   "id": "26263163-4afc-4cf2-a71d-36f926155f1a",
   "metadata": {},
   "source": [
    "## TODO's\n",
    "\n",
    "- Add Open vSwitch flow configuratation on ports and so on.\n",
    "- Add tools on how to track packets in the bridge.\n",
    "- measure of congestion.\n"
   ]
  },
  {
   "cell_type": "markdown",
   "id": "5b3d82db-68a7-4f49-a797-c8094be58327",
   "metadata": {},
   "source": [
    "## Topology\n"
   ]
  },
  {
   "cell_type": "markdown",
   "id": "1e779719-06f3-43b4-b2d1-c1c25dad9fbf",
   "metadata": {},
   "source": [
    "<img src=\"./fig/Testbed-openvswitch-2.png\" width=90%>"
   ]
  },
  {
   "cell_type": "markdown",
   "id": "bccfd572-fc3a-4128-8407-d77beb39418e",
   "metadata": {},
   "source": [
    "## Code"
   ]
  },
  {
   "cell_type": "code",
   "execution_count": null,
   "id": "9e6d8227-1292-4f2a-b97a-bebd5621dcfe",
   "metadata": {},
   "outputs": [],
   "source": [
    "from ipaddress import ip_address, IPv4Address, IPv4Network\n",
    "import ipaddress\n",
    "from fabrictestbed_extensions.fablib.fablib import FablibManager as fablib_manager\n",
    "\n",
    "\n",
    "fablib = fablib_manager()\n",
    "fablib.show_config();"
   ]
  },
  {
   "cell_type": "code",
   "execution_count": null,
   "id": "5afac08b-e5df-42e8-b284-7aaf14e79af0",
   "metadata": {},
   "outputs": [],
   "source": [
    "slice_name= \"Topology\"\n",
    "\n",
    "site1 = 'FIU'\n",
    "print(f\"Sites: {site1}\")\n",
    "\n",
    "site_node_count = 3\n",
    "bridge1_name = 'bridge1'\n",
    "bridge2_name = 'bridge2'\n",
    "bridge3_name = 'bridge3'"
   ]
  },
  {
   "cell_type": "code",
   "execution_count": 9,
   "id": "4a774043-79de-4a32-bad7-e676a2a375db",
   "metadata": {},
   "outputs": [],
   "source": [
    "slice = fablib.new_slice(name=slice_name)\n",
    "default_image= 'default_ubuntu_22'"
   ]
  },
  {
   "cell_type": "code",
   "execution_count": null,
   "id": "b2d971d9-8c21-4e3d-80b1-f431f413feb3",
   "metadata": {},
   "outputs": [],
   "source": [
    "bridge1 = slice.add_node(name=bridge1_name, site=site1, cores=2, ram=10, disk=50, image=default_image, host=f\"{site1.lower()}-w1.fabric-testbed.net\")\n",
    "bridge1_nic1 = bridge1.add_component(model='NIC_Basic', name='nic_local_1')\n",
    "bridge1_nic2 = bridge1.add_component(model='NIC_Basic', name='nic_local_2')\n",
    "bridge1_nic3 = bridge1.add_component(model='NIC_Basic', name='nic_local_3')\n",
    "bridge1_nic4 = bridge1.add_component(model='NIC_Basic', name='nic_local_4')\n",
    "\n",
    "\n",
    "bridge2 = slice.add_node(name=bridge2_name, site=site1, cores=2, ram=10, disk=50, image=default_image, host=f\"{site1.lower()}-w1.fabric-testbed.net\")\n",
    "bridge2_nic1 = bridge2.add_component(model='NIC_Basic', name='nic_local_1')\n",
    "bridge2_nic2 = bridge2.add_component(model='NIC_Basic', name='nic_local_2')\n",
    "bridge2_nic3 = bridge2.add_component(model='NIC_Basic', name='nic_local_3')\n",
    "bridge2_nic4 = bridge2.add_component(model='NIC_Basic', name='nic_local_4')\n",
    "\n",
    "\n",
    "bridge3 = slice.add_node(name=bridge3_name, site=site1, cores=2, ram=10, disk=50, image=default_image, host=f\"{site1.lower()}-w1.fabric-testbed.net\")\n",
    "bridge3_nic1 = bridge3.add_component(model='NIC_Basic', name='nic_local_1')\n",
    "bridge3_nic2 = bridge3.add_component(model='NIC_Basic', name='nic_local_2')"
   ]
  },
  {
   "cell_type": "markdown",
   "id": "c46ae0fb-9417-4c11-936a-85e21fcce436",
   "metadata": {},
   "source": [
    "### Connecting bridges nodes "
   ]
  },
  {
   "cell_type": "code",
   "execution_count": null,
   "id": "6698f5fb-4dc0-4648-bd4d-50b4de11918b",
   "metadata": {},
   "outputs": [],
   "source": [
    "net = slice.add_l2network(name=f'net-br1-br2')\n",
    "net.add_interface(bridge1.get_interfaces()[3])\n",
    "net.add_interface(bridge2.get_interfaces()[3])"
   ]
  },
  {
   "cell_type": "markdown",
   "id": "cc984841-5fab-4755-b71c-d07c4525297a",
   "metadata": {},
   "source": [
    "### Adding Nodes to bridge 1"
   ]
  },
  {
   "cell_type": "code",
   "execution_count": null,
   "id": "accf85af-2e55-47e7-bd4a-3bf2f231cfcb",
   "metadata": {},
   "outputs": [],
   "source": [
    "node_count = 3\n",
    "for br_num in range(2):\n",
    "    print(f\"Adding nodes to {site1}-bridge{br_num+1}\")\n",
    "    disk_size = 500 if br_num == 0 else 50\n",
    "    for node_num in range(node_count):\n",
    "        cores = 2 if node_num > 0 else 10\n",
    "        node_name = f\"{site1.lower()}-bridge{br_num}-{node_num+1}\"\n",
    "        node = slice.add_node(name=node_name, site=site1, cores=cores, ram=32, disk=disk_size, image=default_image, host=f\"{site1.lower()}-w2.fabric-testbed.net\")\n",
    "        iface = node.add_component(model='NIC_Basic', name='nic_local').get_interfaces()[0]    \n",
    "        net = slice.add_l2network(name=f\"net-br{br_num}-{node_num+1}\")\n",
    "        net.add_interface(iface)\n",
    "\n",
    "        if br_num%2==0:\n",
    "            net.add_interface(bridge1.get_interfaces()[node_num])\n",
    "        else:\n",
    "            net.add_interface(bridge2.get_interfaces()[node_num])\n",
    "            \n",
    "        if node_num==0:\n",
    "            iface = node.add_component(model='NIC_Basic', name='nic_local2').get_interfaces()[0]\n",
    "            net2 = slice.add_l2network(name=f\"net-{br_num}-br3-{node_num+1}\")\n",
    "            net2.add_interface(iface)\n",
    "            net2.add_interface(bridge3.get_interfaces()[br_num])"
   ]
  },
  {
   "cell_type": "code",
   "execution_count": null,
   "id": "7b80710f-3340-4e57-866f-c1713e5d0201",
   "metadata": {},
   "outputs": [],
   "source": [
    "print(slice)\n",
    "slice.submit();"
   ]
  },
  {
   "cell_type": "markdown",
   "id": "61870f19-482a-4437-88ee-8a2f40e19e5a",
   "metadata": {},
   "source": [
    "# OVS "
   ]
  },
  {
   "cell_type": "code",
   "execution_count": null,
   "id": "3a5afb2e-3ed9-44d4-8d55-6088e1ca9540",
   "metadata": {},
   "outputs": [],
   "source": [
    "try:\n",
    "    for node in slice.get_nodes():\n",
    "        if node.get_name().startswith(\"bridge\"):\n",
    "            stdout, stderr = node.execute('yes | sudo apt-get -y update && sudo apt-get upgrade', quiet=True) \n",
    "            stdout, stderr = node.execute('yes | sudo apt-get -y install openvswitch-switch openvswitch-common', quiet=True)\n",
    "            stdout, stderr = node.execute('sudo apt-get -y install net-tools', quiet=True)\n",
    "            print(f\"done bridge: {node.get_name()}\")\n",
    "    print(\"Done\")\n",
    "except Exception as e:\n",
    "    print(f\"Exception: {e}\")"
   ]
  },
  {
   "cell_type": "code",
   "execution_count": null,
   "id": "0590d3b9-5a2b-4142-913c-9582bfc26dbb",
   "metadata": {},
   "outputs": [],
   "source": [
    "bridge1 = slice.get_node(name=bridge1_name)\n",
    "stdout, stderr = bridge1.execute('sudo ovs-vsctl add-br br0')\n",
    "for interface in bridge1.get_interfaces():\n",
    "    stdout, stderr = bridge1.execute(f'sudo ovs-vsctl add-port br0 {interface.get_physical_os_interface_name()}')\n",
    "    #Remove IP addresses for all interfaces\n",
    "    stdout, stderr = bridge1.execute(f'sudo ifconfig {interface.get_physical_os_interface_name()} 0')\n",
    "    \n",
    "#bring the bridge up\n",
    "stdout, stderr = bridge1.execute('sudo ifconfig br0 up')\n",
    "\n",
    "print(\"Done\")\n",
    "stdout, stderr = bridge1.execute('sudo ovs-vsctl set bridge br0 stp_enable=true')\n",
    "stdout, stderr = bridge1.execute('sudo ovs-appctl stp/show')\n"
   ]
  },
  {
   "cell_type": "code",
   "execution_count": null,
   "id": "59c0249c-e34a-4dac-acb4-1f9d2832a64f",
   "metadata": {},
   "outputs": [],
   "source": [
    "bridge2 = slice.get_node(name=bridge2_name)\n",
    "stdout, stderr = bridge2.execute('sudo ovs-vsctl add-br br0')\n",
    "for interface in bridge2.get_interfaces():\n",
    "    stdout, stderr = bridge2.execute(f'sudo ovs-vsctl add-port br0 {interface.get_physical_os_interface_name()}')\n",
    "    #Remove IP addresses for all interfaces\n",
    "    stdout, stderr = bridge2.execute(f'sudo ifconfig {interface.get_physical_os_interface_name()} 0')\n",
    "    \n",
    "#bring the bridge up\n",
    "stdout, stderr = bridge2.execute('sudo ifconfig br0 up')\n",
    "\n",
    "print(\"Done\")\n",
    "stdout, stderr = bridge2.execute('sudo ovs-vsctl set bridge br0 stp_enable=true')\n",
    "stdout, stderr = bridge2.execute('sudo ovs-appctl stp/show')\n"
   ]
  },
  {
   "cell_type": "code",
   "execution_count": null,
   "id": "bf75e397-119b-429a-b941-4d1b50c69db7",
   "metadata": {},
   "outputs": [],
   "source": [
    "bridge3 = slice.get_node(name=bridge3_name)\n",
    "stdout, stderr = bridge3.execute('sudo ovs-vsctl add-br br0')\n",
    "for interface in bridge3.get_interfaces():\n",
    "    stdout, stderr = bridge3.execute(f'sudo ovs-vsctl add-port br0 {interface.get_physical_os_interface_name()}')\n",
    "    #Remove IP addresses for all interfaces\n",
    "    stdout, stderr = bridge3.execute(f'sudo ifconfig {interface.get_physical_os_interface_name()} 0')\n",
    "    \n",
    "#bring the bridge up\n",
    "stdout, stderr = bridge3.execute('sudo ifconfig br0 up')\n",
    "\n",
    "print(\"Done\")\n",
    "stdout, stderr = bridge3.execute('sudo ovs-vsctl set bridge br0 stp_enable=true')\n",
    "stdout, stderr = bridge3.execute('sudo ovs-appctl stp/show')"
   ]
  },
  {
   "cell_type": "markdown",
   "id": "1a2a5501-256d-4b16-a17d-56cb7396d69e",
   "metadata": {},
   "source": [
    "# Host Setup "
   ]
  },
  {
   "cell_type": "code",
   "execution_count": null,
   "id": "541189f2-8a58-4877-aff2-46c7b5563515",
   "metadata": {},
   "outputs": [],
   "source": [
    "shared = [\n",
    "    \"10.10.10.1/24\",\n",
    "    \"10.10.10.2/24\",\n",
    "    \"10.10.10.3/24\",\n",
    "    \"10.10.10.4/24\",\n",
    "    \"10.10.10.5/24\",\n",
    "    \"10.10.10.6/24\"\n",
    "]\n",
    "\n",
    "dedicated = [\n",
    "    \"10.10.10.7/24\",\n",
    "    \"10.10.10.8/24\",\n",
    "]\n",
    "\n",
    "for br_num in range(2):\n",
    "    for i in range(3):\n",
    "        host = slice.get_node(name=f'{site1.lower()}-bridge{br_num}-{i+1}')\n",
    "        stdout, stderr = host.execute('sudo apt-get -y install net-tools', quiet=True)\n",
    "        stdout, stderr = host.execute(f'sudo ip link set dev {host.get_interfaces()[0].get_physical_os_interface_name()} up', quiet=True)\n",
    "        stdout, stderr = host.execute(f'sudo ip addr add {shared[i+3*br_num]} dev {host.get_interfaces()[0].get_physical_os_interface_name()}', quiet=True)\n",
    "        if i == 0:\n",
    "                stdout, stderr = host.execute(f'sudo ip link set dev {host.get_interfaces()[1].get_physical_os_interface_name()} up', quiet=True)\n",
    "                stdout, stderr = host.execute(f'sudo ip addr add {dedicated[br_num]} dev {host.get_interfaces()[1].get_physical_os_interface_name()}', quiet=True)\n",
    "                stdout, stderr = host.execute(f'sudo ip route add {dedicated[(br_num+1)%2]} dev {host.get_interfaces()[1].get_physical_os_interface_name()}', quiet=True)\n",
    "                stdout, stderr = host.execute(f'sudo ip route add {shared[br_num]} dev {host.get_interfaces()[0].get_physical_os_interface_name()}', quiet=True)"
   ]
  },
  {
   "cell_type": "code",
   "execution_count": null,
   "id": "551db3c9-6914-4b13-8f8b-d5010eaee412",
   "metadata": {},
   "outputs": [],
   "source": [
    "host1 = slice.get_node(name=f'{site1.lower()}-bridge0-1')\n",
    "stdout, stderr = host1.execute('ping 10.10.10.2 -c 5')"
   ]
  },
  {
   "cell_type": "code",
   "execution_count": null,
   "id": "f8d2b7df-abc7-439a-8f07-502403483e31",
   "metadata": {},
   "outputs": [],
   "source": [
    "host6 = slice.get_node(name=f'{site1.lower()}-bridge0-1')\n",
    "stdout, stderr = host1.execute('ping 10.10.10.5 -c 5')"
   ]
  },
  {
   "cell_type": "code",
   "execution_count": null,
   "id": "ffef46bd-b712-4fc4-9e57-5ee85681245a",
   "metadata": {},
   "outputs": [],
   "source": [
    "stdout, stderr = host1.execute('ping 10.10.10.3 -c 5')"
   ]
  },
  {
   "cell_type": "code",
   "execution_count": 18,
   "id": "090a9cf5-318c-443a-bd71-76332e5b137b",
   "metadata": {},
   "outputs": [],
   "source": [
    "slice.delete()"
   ]
  }
 ],
 "metadata": {
  "kernelspec": {
   "display_name": "Python 3 (ipykernel)",
   "language": "python",
   "name": "python3"
  },
  "language_info": {
   "codemirror_mode": {
    "name": "ipython",
    "version": 3
   },
   "file_extension": ".py",
   "mimetype": "text/x-python",
   "name": "python",
   "nbconvert_exporter": "python",
   "pygments_lexer": "ipython3",
   "version": "3.11.9"
  }
 },
 "nbformat": 4,
 "nbformat_minor": 5
}
